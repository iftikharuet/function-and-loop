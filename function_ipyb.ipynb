{
  "nbformat": 4,
  "nbformat_minor": 0,
  "metadata": {
    "colab": {
      "name": "function.ipyb",
      "provenance": []
    },
    "kernelspec": {
      "name": "python3",
      "display_name": "Python 3"
    },
    "accelerator": "GPU"
  },
  "cells": [
    {
      "cell_type": "code",
      "metadata": {
        "id": "SUfn0mRoNuxm"
      },
      "source": [
        "\r\n",
        "def fn_name(arguments_parameters):\r\n",
        "    \"body of our fn code goes here\""
      ],
      "execution_count": 22,
      "outputs": []
    },
    {
      "cell_type": "code",
      "metadata": {
        "id": "K98mRW8zNvNK"
      },
      "source": [
        "def fn_name():\r\n",
        "    print (\"body of our fn\")"
      ],
      "execution_count": 24,
      "outputs": []
    },
    {
      "cell_type": "code",
      "metadata": {
        "colab": {
          "base_uri": "https://localhost:8080/"
        },
        "id": "V2Cx5hGfNxcq",
        "outputId": "e5233057-bb2f-4893-daeb-cc34de59c194"
      },
      "source": [
        "fn_name()"
      ],
      "execution_count": 25,
      "outputs": [
        {
          "output_type": "stream",
          "text": [
            "body of our fn\n"
          ],
          "name": "stdout"
        }
      ]
    },
    {
      "cell_type": "code",
      "metadata": {
        "colab": {
          "base_uri": "https://localhost:8080/"
        },
        "id": "nJ-0xcpmN2Yi",
        "outputId": "649862fa-3e1b-4a46-99e1-e92ab323feef"
      },
      "source": [
        "def fn_name(x):\r\n",
        "    print (\"body goes here\")\r\n",
        "    \r\n",
        "fn_name(4)"
      ],
      "execution_count": 26,
      "outputs": [
        {
          "output_type": "stream",
          "text": [
            "body goes here\n"
          ],
          "name": "stdout"
        }
      ]
    },
    {
      "cell_type": "code",
      "metadata": {
        "colab": {
          "base_uri": "https://localhost:8080/"
        },
        "id": "PrWYkoTcN73y",
        "outputId": "39186875-1828-4350-bad0-bbea28a22002"
      },
      "source": [
        "fn_name(8)"
      ],
      "execution_count": 27,
      "outputs": [
        {
          "output_type": "stream",
          "text": [
            "body goes here\n"
          ],
          "name": "stdout"
        }
      ]
    },
    {
      "cell_type": "code",
      "metadata": {
        "colab": {
          "base_uri": "https://localhost:8080/"
        },
        "id": "PvHHya2bOASf",
        "outputId": "0d4feebf-9e23-4289-cb36-3e7425edf35c"
      },
      "source": [
        "fn_name('a')"
      ],
      "execution_count": 28,
      "outputs": [
        {
          "output_type": "stream",
          "text": [
            "body goes here\n"
          ],
          "name": "stdout"
        }
      ]
    },
    {
      "cell_type": "code",
      "metadata": {
        "colab": {
          "base_uri": "https://localhost:8080/"
        },
        "id": "KIQJpkKZOFXS",
        "outputId": "a7099e3a-a986-4898-a7f3-74b909c63734"
      },
      "source": [
        "fn_name(\"arg\")"
      ],
      "execution_count": 29,
      "outputs": [
        {
          "output_type": "stream",
          "text": [
            "body goes here\n"
          ],
          "name": "stdout"
        }
      ]
    },
    {
      "cell_type": "code",
      "metadata": {
        "colab": {
          "base_uri": "https://localhost:8080/"
        },
        "id": "8uFWBtfAOG2g",
        "outputId": "85601e36-d082-4b36-f760-636a23ad71fc"
      },
      "source": [
        "def subtract(x, y):\r\n",
        "    print (x - y)\r\n",
        "    \r\n",
        "subtract(12, 5)"
      ],
      "execution_count": 32,
      "outputs": [
        {
          "output_type": "stream",
          "text": [
            "7\n"
          ],
          "name": "stdout"
        }
      ]
    },
    {
      "cell_type": "code",
      "metadata": {
        "colab": {
          "base_uri": "https://localhost:8080/"
        },
        "id": "msOSH5IDOKQR",
        "outputId": "42d2d59d-0493-490d-ed3e-de8c922eeee7"
      },
      "source": [
        "subtract(5, 12)"
      ],
      "execution_count": 33,
      "outputs": [
        {
          "output_type": "stream",
          "text": [
            "-7\n"
          ],
          "name": "stdout"
        }
      ]
    },
    {
      "cell_type": "code",
      "metadata": {
        "colab": {
          "base_uri": "https://localhost:8080/"
        },
        "id": "XivSItAZOTaD",
        "outputId": "4d904682-7032-489b-f02c-d6e5ad64a1f5"
      },
      "source": [
        "def greet(x):\r\n",
        "    print (\"hello \" + x)\r\n",
        "    \r\n",
        "greet(\"Python\")"
      ],
      "execution_count": 35,
      "outputs": [
        {
          "output_type": "stream",
          "text": [
            "hello Python\n"
          ],
          "name": "stdout"
        }
      ]
    },
    {
      "cell_type": "code",
      "metadata": {
        "colab": {
          "base_uri": "https://localhost:8080/"
        },
        "id": "EgeWPG46OWbt",
        "outputId": "d2b2eb90-f082-4698-978d-5731ce54c9b6"
      },
      "source": [
        "def subtract(x, y):\r\n",
        "    print (x - y)\r\n",
        "    \r\n",
        "a = subtract(4,3)"
      ],
      "execution_count": 37,
      "outputs": [
        {
          "output_type": "stream",
          "text": [
            "1\n"
          ],
          "name": "stdout"
        }
      ]
    },
    {
      "cell_type": "code",
      "metadata": {
        "colab": {
          "base_uri": "https://localhost:8080/"
        },
        "id": "quMp6KhPOd5k",
        "outputId": "c92bdd2a-048c-4e71-fd00-eb223b7d95fa"
      },
      "source": [
        "def subtract(x, y):\r\n",
        "    return x - y\r\n",
        "\r\n",
        "subtract(4,3)"
      ],
      "execution_count": 38,
      "outputs": [
        {
          "output_type": "execute_result",
          "data": {
            "text/plain": [
              "1"
            ]
          },
          "metadata": {
            "tags": []
          },
          "execution_count": 38
        }
      ]
    },
    {
      "cell_type": "code",
      "metadata": {
        "id": "44_pNcgcOkmE"
      },
      "source": [
        ""
      ],
      "execution_count": null,
      "outputs": []
    }
  ]
}