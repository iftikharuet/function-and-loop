{
  "nbformat": 4,
  "nbformat_minor": 0,
  "metadata": {
    "colab": {
      "name": "loop.ipyb",
      "provenance": []
    },
    "kernelspec": {
      "name": "python3",
      "display_name": "Python 3"
    },
    "accelerator": "GPU"
  },
  "cells": [
    {
      "cell_type": "code",
      "metadata": {
        "id": "bhuZ5B0KNS5K"
      },
      "source": [
        "x=0,9,8,7,2"
      ],
      "execution_count": 20,
      "outputs": []
    },
    {
      "cell_type": "code",
      "metadata": {
        "colab": {
          "base_uri": "https://localhost:8080/"
        },
        "id": "UHgUdYIYMmXB",
        "outputId": "19b6315c-85f9-49b2-adab-4afa725fa173"
      },
      "source": [
        "for num in x:\r\n",
        "    if num > 0:\r\n",
        "        print (num, \" is a positive number\")\r\n",
        "    elif num == 0:\r\n",
        "        print (num, \" is neither a pos nor a negative number\")\r\n",
        "    else:\r\n",
        "        print (num, \" is a negative number\")\r\n",
        "        print (\"and its abs is: \", abs(num))"
      ],
      "execution_count": 21,
      "outputs": [
        {
          "output_type": "stream",
          "text": [
            "0  is neither a pos nor a negative number\n",
            "9  is a positive number\n",
            "8  is a positive number\n",
            "7  is a positive number\n",
            "2  is a positive number\n"
          ],
          "name": "stdout"
        }
      ]
    },
    {
      "cell_type": "code",
      "metadata": {
        "id": "sr9bX2PqNRUA"
      },
      "source": [
        ""
      ],
      "execution_count": null,
      "outputs": []
    },
    {
      "cell_type": "code",
      "metadata": {
        "id": "nJh7xC7_NQBF"
      },
      "source": [
        ""
      ],
      "execution_count": null,
      "outputs": []
    },
    {
      "cell_type": "code",
      "metadata": {
        "id": "MV62jGQ3MzpJ"
      },
      "source": [
        ""
      ],
      "execution_count": null,
      "outputs": []
    }
  ]
}